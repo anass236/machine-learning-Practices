{
  "nbformat": 4,
  "nbformat_minor": 0,
  "metadata": {
    "kernelspec": {
      "display_name": "Python 3",
      "language": "python",
      "name": "python3"
    },
    "language_info": {
      "codemirror_mode": {
        "name": "ipython",
        "version": 3
      },
      "file_extension": ".py",
      "mimetype": "text/x-python",
      "name": "python",
      "nbconvert_exporter": "python",
      "pygments_lexer": "ipython3",
      "version": "3.7.4"
    },
    "colab": {
      "name": "[IA_Niv2] NLP_TP_MARAH_Anass.ipynb",
      "provenance": [],
      "collapsed_sections": [],
      "toc_visible": true
    }
  },
  "cells": [
    {
      "cell_type": "markdown",
      "metadata": {
        "id": "B8hAa9wS67FD",
        "colab_type": "text"
      },
      "source": [
        "#**Introduction**"
      ]
    },
    {
      "cell_type": "code",
      "metadata": {
        "id": "8HenIWJbpaCj",
        "colab_type": "code",
        "colab": {}
      },
      "source": [
        "import numpy as np\n",
        "import pandas as pd"
      ],
      "execution_count": 0,
      "outputs": []
    },
    {
      "cell_type": "code",
      "metadata": {
        "id": "MraTQd-jpaCq",
        "colab_type": "code",
        "colab": {}
      },
      "source": [
        "spam = pd.read_csv('spam.csv')"
      ],
      "execution_count": 0,
      "outputs": []
    },
    {
      "cell_type": "code",
      "metadata": {
        "id": "mhcBYtTqpaCt",
        "colab_type": "code",
        "outputId": "1bde3f20-9e4c-481f-8ab6-61224706f41f",
        "colab": {
          "base_uri": "https://localhost:8080/",
          "height": 195
        }
      },
      "source": [
        "spam.head()"
      ],
      "execution_count": 0,
      "outputs": [
        {
          "output_type": "execute_result",
          "data": {
            "text/html": [
              "<div>\n",
              "<style scoped>\n",
              "    .dataframe tbody tr th:only-of-type {\n",
              "        vertical-align: middle;\n",
              "    }\n",
              "\n",
              "    .dataframe tbody tr th {\n",
              "        vertical-align: top;\n",
              "    }\n",
              "\n",
              "    .dataframe thead th {\n",
              "        text-align: right;\n",
              "    }\n",
              "</style>\n",
              "<table border=\"1\" class=\"dataframe\">\n",
              "  <thead>\n",
              "    <tr style=\"text-align: right;\">\n",
              "      <th></th>\n",
              "      <th>Category</th>\n",
              "      <th>Message</th>\n",
              "    </tr>\n",
              "  </thead>\n",
              "  <tbody>\n",
              "    <tr>\n",
              "      <th>0</th>\n",
              "      <td>ham</td>\n",
              "      <td>Go until jurong point, crazy.. Available only ...</td>\n",
              "    </tr>\n",
              "    <tr>\n",
              "      <th>1</th>\n",
              "      <td>ham</td>\n",
              "      <td>Ok lar... Joking wif u oni...</td>\n",
              "    </tr>\n",
              "    <tr>\n",
              "      <th>2</th>\n",
              "      <td>spam</td>\n",
              "      <td>Free entry in 2 a wkly comp to win FA Cup fina...</td>\n",
              "    </tr>\n",
              "    <tr>\n",
              "      <th>3</th>\n",
              "      <td>ham</td>\n",
              "      <td>U dun say so early hor... U c already then say...</td>\n",
              "    </tr>\n",
              "    <tr>\n",
              "      <th>4</th>\n",
              "      <td>ham</td>\n",
              "      <td>Nah I don't think he goes to usf, he lives aro...</td>\n",
              "    </tr>\n",
              "  </tbody>\n",
              "</table>\n",
              "</div>"
            ],
            "text/plain": [
              "  Category                                            Message\n",
              "0      ham  Go until jurong point, crazy.. Available only ...\n",
              "1      ham                      Ok lar... Joking wif u oni...\n",
              "2     spam  Free entry in 2 a wkly comp to win FA Cup fina...\n",
              "3      ham  U dun say so early hor... U c already then say...\n",
              "4      ham  Nah I don't think he goes to usf, he lives aro..."
            ]
          },
          "metadata": {
            "tags": []
          },
          "execution_count": 5
        }
      ]
    },
    {
      "cell_type": "markdown",
      "metadata": {
        "id": "D93tkBtlp7uh",
        "colab_type": "text"
      },
      "source": [
        "**Le but** de cette démonstration est d'appliquer les principaux fonctionalités de Natural Language Processing, il s'agit de lemmentazing and stemming, on va travailler sur un DataSet des émails composé de deux columns:\n",
        "\n",
        "\n",
        "1.   Category: les types de messages soit (\"ham\"/\"spam\")\n",
        "2.   Message: message écrit sur l'email\n",
        "\n",
        "Après, on va essayer de prédire la catégorie de chaque message, à l'aide des algorithmes de classifications"
      ]
    },
    {
      "cell_type": "code",
      "metadata": {
        "id": "JuNlg_yXpaCz",
        "colab_type": "code",
        "outputId": "c72bce71-5933-4f1f-bf68-e118a398e264",
        "colab": {
          "base_uri": "https://localhost:8080/",
          "height": 175
        }
      },
      "source": [
        "# Installer les librairies nécessaires pour cette étude:\n",
        "\n",
        "!pip install nltk\n",
        "\n",
        "import nltk\n",
        "\n",
        "nltk.download('stopwords')\n",
        "nltk.download('punkt')\n",
        "nltk.download('wordnet')"
      ],
      "execution_count": 0,
      "outputs": [
        {
          "output_type": "stream",
          "text": [
            "Requirement already satisfied: nltk in /usr/local/lib/python3.6/dist-packages (3.2.5)\n",
            "Requirement already satisfied: six in /usr/local/lib/python3.6/dist-packages (from nltk) (1.12.0)\n",
            "[nltk_data] Downloading package stopwords to /root/nltk_data...\n",
            "[nltk_data]   Unzipping corpora/stopwords.zip.\n",
            "[nltk_data] Downloading package punkt to /root/nltk_data...\n",
            "[nltk_data]   Unzipping tokenizers/punkt.zip.\n",
            "[nltk_data] Downloading package wordnet to /root/nltk_data...\n",
            "[nltk_data]   Unzipping corpora/wordnet.zip.\n"
          ],
          "name": "stdout"
        },
        {
          "output_type": "execute_result",
          "data": {
            "text/plain": [
              "True"
            ]
          },
          "metadata": {
            "tags": []
          },
          "execution_count": 6
        }
      ]
    },
    {
      "cell_type": "markdown",
      "metadata": {
        "id": "bY66z-NhpaC4",
        "colab_type": "text"
      },
      "source": [
        "# **1- Suppression des stopwords de tous les messages**"
      ]
    },
    {
      "cell_type": "code",
      "metadata": {
        "id": "z2qdjnkGpaC5",
        "colab_type": "code",
        "colab": {}
      },
      "source": [
        "\n",
        "from nltk.tokenize import word_tokenize\n",
        "from nltk.corpus import stopwords\n",
        "\n",
        "stop_words = set(stopwords.words('english'))\n",
        "# Assign the messages without stopwords to another column\n",
        "spam['Message_without_stopwords'] = spam.Message.apply(lambda x: ' '.join([word for word in word_tokenize(x) if word not in stop_words]))"
      ],
      "execution_count": 0,
      "outputs": []
    },
    {
      "cell_type": "code",
      "metadata": {
        "id": "p1nNJ83BpaC9",
        "colab_type": "code",
        "colab": {}
      },
      "source": [
        "spam['Message_with_stopwords'] = spam.Message"
      ],
      "execution_count": 0,
      "outputs": []
    },
    {
      "cell_type": "code",
      "metadata": {
        "id": "jcErxwmxpaDz",
        "colab_type": "code",
        "colab": {}
      },
      "source": [
        "spam.drop(columns=['Message'],inplace=True)"
      ],
      "execution_count": 0,
      "outputs": []
    },
    {
      "cell_type": "markdown",
      "metadata": {
        "id": "YK2CNic4paDD",
        "colab_type": "text"
      },
      "source": [
        "# **2- Application du stemming sur les messages sans stopwords**"
      ]
    },
    {
      "cell_type": "code",
      "metadata": {
        "id": "oZIBQesipaDE",
        "colab_type": "code",
        "colab": {}
      },
      "source": [
        "from nltk.stem import SnowballStemmer\n",
        "from nltk.tokenize import word_tokenize\n",
        "\n",
        "stemmer = SnowballStemmer('english')\n",
        "spam['Message_stemmed_without_StopWords'] = spam.Message_without_stopwords.apply(lambda x: ' '.join([stemmer.stem(word) for word in word_tokenize(x)]))"
      ],
      "execution_count": 0,
      "outputs": []
    },
    {
      "cell_type": "markdown",
      "metadata": {
        "id": "alk_IGb6paDL",
        "colab_type": "text"
      },
      "source": [
        "# **3- Application de la lematization sur les messages sans stopwords (mais pas après stemming)**"
      ]
    },
    {
      "cell_type": "code",
      "metadata": {
        "id": "rP2LlXsvpaDN",
        "colab_type": "code",
        "colab": {}
      },
      "source": [
        "from nltk.stem import WordNetLemmatizer \n",
        "\n",
        "lemmatizer = WordNetLemmatizer()\n",
        "spam['Message_lemmatized_before_stemming'] = spam.Message_without_stopwords.apply(lambda x: ' '.join([lemmatizer.lemmatize(word) for word in word_tokenize(x)]))"
      ],
      "execution_count": 0,
      "outputs": []
    },
    {
      "cell_type": "markdown",
      "metadata": {
        "id": "nYZjzxGjpaDT",
        "colab_type": "text"
      },
      "source": [
        "# **4- Comparation des résultats entre 2 et 3 (2-3 phrases suffisent)**"
      ]
    },
    {
      "cell_type": "code",
      "metadata": {
        "id": "aRuLdRTzpaDV",
        "colab_type": "code",
        "colab": {}
      },
      "source": [
        "# show the totality of message in our dataSet\n",
        "pd.set_option('display.max_colwidth', -1)"
      ],
      "execution_count": 0,
      "outputs": []
    },
    {
      "cell_type": "code",
      "metadata": {
        "id": "y4FLI0AgpaDZ",
        "colab_type": "code",
        "outputId": "2b41d1ee-d5fb-4efc-ee7e-6e79f26d3779",
        "colab": {
          "base_uri": "https://localhost:8080/",
          "height": 511
        }
      },
      "source": [
        "spam[['Message_without_stopwords','Message_stemmed_without_StopWords','Message_lemmatized_before_stemming']].head(10)"
      ],
      "execution_count": 0,
      "outputs": [
        {
          "output_type": "execute_result",
          "data": {
            "text/html": [
              "<div>\n",
              "<style scoped>\n",
              "    .dataframe tbody tr th:only-of-type {\n",
              "        vertical-align: middle;\n",
              "    }\n",
              "\n",
              "    .dataframe tbody tr th {\n",
              "        vertical-align: top;\n",
              "    }\n",
              "\n",
              "    .dataframe thead th {\n",
              "        text-align: right;\n",
              "    }\n",
              "</style>\n",
              "<table border=\"1\" class=\"dataframe\">\n",
              "  <thead>\n",
              "    <tr style=\"text-align: right;\">\n",
              "      <th></th>\n",
              "      <th>Message_without_stopwords</th>\n",
              "      <th>Message_stemmed_without_StopWords</th>\n",
              "      <th>Message_lemmatized_before_stemming</th>\n",
              "    </tr>\n",
              "  </thead>\n",
              "  <tbody>\n",
              "    <tr>\n",
              "      <th>0</th>\n",
              "      <td>Go jurong point , crazy.. Available bugis n great world la e buffet ... Cine got amore wat ...</td>\n",
              "      <td>go jurong point , crazy.. avail bugi n great world la e buffet ... cine got amor wat ...</td>\n",
              "      <td>Go jurong point , crazy.. Available bugis n great world la e buffet ... Cine got amore wat ...</td>\n",
              "    </tr>\n",
              "    <tr>\n",
              "      <th>1</th>\n",
              "      <td>Ok lar ... Joking wif u oni ...</td>\n",
              "      <td>ok lar ... joke wif u oni ...</td>\n",
              "      <td>Ok lar ... Joking wif u oni ...</td>\n",
              "    </tr>\n",
              "    <tr>\n",
              "      <th>2</th>\n",
              "      <td>Free entry 2 wkly comp win FA Cup final tkts 21st May 2005 . Text FA 87121 receive entry question ( std txt rate ) T &amp; C 's apply 08452810075over18 's</td>\n",
              "      <td>free entri 2 wkli comp win fa cup final tkts 21st may 2005 . text fa 87121 receiv entri question ( std txt rate ) t &amp; c 's appli 08452810075over18 's</td>\n",
              "      <td>Free entry 2 wkly comp win FA Cup final tkts 21st May 2005 . Text FA 87121 receive entry question ( std txt rate ) T &amp; C 's apply 08452810075over18 's</td>\n",
              "    </tr>\n",
              "    <tr>\n",
              "      <th>3</th>\n",
              "      <td>U dun say early hor ... U c already say ...</td>\n",
              "      <td>u dun say earli hor ... u c alreadi say ...</td>\n",
              "      <td>U dun say early hor ... U c already say ...</td>\n",
              "    </tr>\n",
              "    <tr>\n",
              "      <th>4</th>\n",
              "      <td>Nah I n't think goes usf , lives around though</td>\n",
              "      <td>nah i n't think goe usf , live around though</td>\n",
              "      <td>Nah I n't think go usf , life around though</td>\n",
              "    </tr>\n",
              "    <tr>\n",
              "      <th>5</th>\n",
              "      <td>FreeMsg Hey darling 's 3 week 's word back ! I 'd like fun still ? Tb ok ! XxX std chgs send , £1.50 rcv</td>\n",
              "      <td>freemsg hey darl 's 3 week 's word back ! i 'd like fun still ? tb ok ! xxx std chgs send , £1.50 rcv</td>\n",
              "      <td>FreeMsg Hey darling 's 3 week 's word back ! I 'd like fun still ? Tb ok ! XxX std chgs send , £1.50 rcv</td>\n",
              "    </tr>\n",
              "    <tr>\n",
              "      <th>6</th>\n",
              "      <td>Even brother like speak . They treat like aids patent .</td>\n",
              "      <td>even brother like speak . they treat like aid patent .</td>\n",
              "      <td>Even brother like speak . They treat like aid patent .</td>\n",
              "    </tr>\n",
              "    <tr>\n",
              "      <th>7</th>\n",
              "      <td>As per request 'Melle Melle ( Oru Minnaminunginte Nurungu Vettam ) ' set callertune Callers . Press *9 copy friends Callertune</td>\n",
              "      <td>as per request mell mell ( oru minnaminungint nurungu vettam ) ' set callertun caller . press *9 copi friend callertun</td>\n",
              "      <td>As per request 'Melle Melle ( Oru Minnaminunginte Nurungu Vettam ) ' set callertune Callers . Press *9 copy friend Callertune</td>\n",
              "    </tr>\n",
              "    <tr>\n",
              "      <th>8</th>\n",
              "      <td>WINNER ! ! As valued network customer selected receivea £900 prize reward ! To claim call 09061701461 . Claim code KL341 . Valid 12 hours .</td>\n",
              "      <td>winner ! ! as valu network custom select receivea £900 prize reward ! to claim call 09061701461 . claim code kl341 . valid 12 hour .</td>\n",
              "      <td>WINNER ! ! As valued network customer selected receivea £900 prize reward ! To claim call 09061701461 . Claim code KL341 . Valid 12 hour .</td>\n",
              "    </tr>\n",
              "    <tr>\n",
              "      <th>9</th>\n",
              "      <td>Had mobile 11 months ? U R entitled Update latest colour mobiles camera Free ! Call The Mobile Update Co FREE 08002986030</td>\n",
              "      <td>had mobil 11 month ? u r entitl updat latest colour mobil camera free ! call the mobil updat co free 08002986030</td>\n",
              "      <td>Had mobile 11 month ? U R entitled Update latest colour mobile camera Free ! Call The Mobile Update Co FREE 08002986030</td>\n",
              "    </tr>\n",
              "  </tbody>\n",
              "</table>\n",
              "</div>"
            ],
            "text/plain": [
              "                                                                                                                                Message_without_stopwords  ...                                                                                                                      Message_lemmatized_before_stemming\n",
              "0  Go jurong point , crazy.. Available bugis n great world la e buffet ... Cine got amore wat ...                                                          ...  Go jurong point , crazy.. Available bugis n great world la e buffet ... Cine got amore wat ...                                                        \n",
              "1  Ok lar ... Joking wif u oni ...                                                                                                                         ...  Ok lar ... Joking wif u oni ...                                                                                                                       \n",
              "2  Free entry 2 wkly comp win FA Cup final tkts 21st May 2005 . Text FA 87121 receive entry question ( std txt rate ) T & C 's apply 08452810075over18 's  ...  Free entry 2 wkly comp win FA Cup final tkts 21st May 2005 . Text FA 87121 receive entry question ( std txt rate ) T & C 's apply 08452810075over18 's\n",
              "3  U dun say early hor ... U c already say ...                                                                                                             ...  U dun say early hor ... U c already say ...                                                                                                           \n",
              "4  Nah I n't think goes usf , lives around though                                                                                                          ...  Nah I n't think go usf , life around though                                                                                                           \n",
              "5  FreeMsg Hey darling 's 3 week 's word back ! I 'd like fun still ? Tb ok ! XxX std chgs send , £1.50 rcv                                                ...  FreeMsg Hey darling 's 3 week 's word back ! I 'd like fun still ? Tb ok ! XxX std chgs send , £1.50 rcv                                              \n",
              "6  Even brother like speak . They treat like aids patent .                                                                                                 ...  Even brother like speak . They treat like aid patent .                                                                                                \n",
              "7  As per request 'Melle Melle ( Oru Minnaminunginte Nurungu Vettam ) ' set callertune Callers . Press *9 copy friends Callertune                          ...  As per request 'Melle Melle ( Oru Minnaminunginte Nurungu Vettam ) ' set callertune Callers . Press *9 copy friend Callertune                         \n",
              "8  WINNER ! ! As valued network customer selected receivea £900 prize reward ! To claim call 09061701461 . Claim code KL341 . Valid 12 hours .             ...  WINNER ! ! As valued network customer selected receivea £900 prize reward ! To claim call 09061701461 . Claim code KL341 . Valid 12 hour .            \n",
              "9  Had mobile 11 months ? U R entitled Update latest colour mobiles camera Free ! Call The Mobile Update Co FREE 08002986030                               ...  Had mobile 11 month ? U R entitled Update latest colour mobile camera Free ! Call The Mobile Update Co FREE 08002986030                               \n",
              "\n",
              "[10 rows x 3 columns]"
            ]
          },
          "metadata": {
            "tags": []
          },
          "execution_count": 13
        }
      ]
    },
    {
      "cell_type": "markdown",
      "metadata": {
        "id": "2ykAiHa_paDf",
        "colab_type": "text"
      },
      "source": [
        "If we look to phrase **'Had mobile 11 months ? U R entitled Update latest colour mobiles camera Free ! Call The Mobile Update Co FREE 08002986030'** specially verb *\"entitled\"* it is in the past simple, so normally when we stemmed we should have ***'entitle'*** but the result has ***'entitl'*** even the lemmatized he keeped the ***\"ed\"***. The same thing applies to message  **'WINNER ! ! As valued network customer selected receivea £900 prize reward ! To claim call 09061701461 . Claim code KL341 . Valid 12 hours .\t\"** with the verbs \"select, value\""
      ]
    },
    {
      "cell_type": "markdown",
      "metadata": {
        "id": "7aMTeMi-paDi",
        "colab_type": "text"
      },
      "source": [
        "#  **<font color=\"blue\">5- Exécutez une TF-IDF sur les messages après Stemming ou Lemmatization<font/>**"
      ]
    },
    {
      "cell_type": "markdown",
      "metadata": {
        "id": "JlGe8aRltBE0",
        "colab_type": "text"
      },
      "source": [
        "\n",
        "\n",
        "*   **sublinear_df** est mis on True pour utiliser la forme logarithmique de la fréquence.\n",
        "*   **min_df** est le nombre minimum de documents dans lesquels un mot doit être présent pour être conservé.\n",
        "*   **norm is** est mis en \"l2\", pour garantir que tous nos vecteurs de caractéristiques ont une norme euclidienne de 1.\n",
        "*   **ngram_range** est réglé sur (1, 2) pour indiquer que nous voulons considérer à la fois les unigrammes (un mot) et les bigrammes (deux mots).\n",
        "\n",
        "Pour plus de détails, voir: https://scikit-learn.org/stable/modules/generated/sklearn.feature_extraction.text.TfidfVectorizer.html\n",
        "\n",
        "\n",
        "\n",
        "\n",
        "\n",
        "\n"
      ]
    },
    {
      "cell_type": "markdown",
      "metadata": {
        "id": "ioikwpoYxGCV",
        "colab_type": "text"
      },
      "source": [
        "## 5.1. Le cas du Lemmatizing"
      ]
    },
    {
      "cell_type": "code",
      "metadata": {
        "id": "Nqih3IykpaDj",
        "colab_type": "code",
        "outputId": "822a67f2-56d2-4a57-cf66-43347d01f360",
        "colab": {
          "base_uri": "https://localhost:8080/",
          "height": 402
        }
      },
      "source": [
        "from sklearn.feature_extraction.text import TfidfVectorizer\n",
        "\n",
        "corpus_lemm = spam.Message_lemmatized_before_stemming\n",
        "\n",
        "#Initialisation du TfidfVectorizer\n",
        "vectorizer = TfidfVectorizer(sublinear_tf=True, min_df=5, norm='l2',  ngram_range=(1, 2))\n",
        "\n",
        "#transformation du message Lemmatizing\n",
        "Y = vectorizer.fit_transform(corpus_lemm)\n",
        "\n",
        "# on crée une dataFrame pour avoir les mots les plus fréquents et son TFIDF (ce fréquence est en pourcentage)\n",
        "df2 = pd.DataFrame(np.round(Y[0].T.todense() *100,2), index=vectorizer.get_feature_names(), columns=[\"tfidf % - lemmatize\"])\n",
        "df2.sort_values(by=[\"tfidf % - lemmatize\"],ascending=False)"
      ],
      "execution_count": 0,
      "outputs": [
        {
          "output_type": "execute_result",
          "data": {
            "text/html": [
              "<div>\n",
              "<style scoped>\n",
              "    .dataframe tbody tr th:only-of-type {\n",
              "        vertical-align: middle;\n",
              "    }\n",
              "\n",
              "    .dataframe tbody tr th {\n",
              "        vertical-align: top;\n",
              "    }\n",
              "\n",
              "    .dataframe thead th {\n",
              "        text-align: right;\n",
              "    }\n",
              "</style>\n",
              "<table border=\"1\" class=\"dataframe\">\n",
              "  <thead>\n",
              "    <tr style=\"text-align: right;\">\n",
              "      <th></th>\n",
              "      <th>tfidf % - lemmatize</th>\n",
              "    </tr>\n",
              "  </thead>\n",
              "  <tbody>\n",
              "    <tr>\n",
              "      <th>bugis</th>\n",
              "      <td>36.84</td>\n",
              "    </tr>\n",
              "    <tr>\n",
              "      <th>la</th>\n",
              "      <td>36.84</td>\n",
              "    </tr>\n",
              "    <tr>\n",
              "      <th>cine</th>\n",
              "      <td>36.84</td>\n",
              "    </tr>\n",
              "    <tr>\n",
              "      <th>crazy</th>\n",
              "      <td>33.77</td>\n",
              "    </tr>\n",
              "    <tr>\n",
              "      <th>available</th>\n",
              "      <td>32.62</td>\n",
              "    </tr>\n",
              "    <tr>\n",
              "      <th>...</th>\n",
              "      <td>...</td>\n",
              "    </tr>\n",
              "    <tr>\n",
              "      <th>friends</th>\n",
              "      <td>0.00</td>\n",
              "    </tr>\n",
              "    <tr>\n",
              "      <th>friendship</th>\n",
              "      <td>0.00</td>\n",
              "    </tr>\n",
              "    <tr>\n",
              "      <th>friendship good</th>\n",
              "      <td>0.00</td>\n",
              "    </tr>\n",
              "    <tr>\n",
              "      <th>frm</th>\n",
              "      <td>0.00</td>\n",
              "    </tr>\n",
              "    <tr>\n",
              "      <th>zed</th>\n",
              "      <td>0.00</td>\n",
              "    </tr>\n",
              "  </tbody>\n",
              "</table>\n",
              "<p>2566 rows × 1 columns</p>\n",
              "</div>"
            ],
            "text/plain": [
              "                 tfidf % - lemmatize\n",
              "bugis            36.84              \n",
              "la               36.84              \n",
              "cine             36.84              \n",
              "crazy            33.77              \n",
              "available        32.62              \n",
              "...                ...              \n",
              "friends          0.00               \n",
              "friendship       0.00               \n",
              "friendship good  0.00               \n",
              "frm              0.00               \n",
              "zed              0.00               \n",
              "\n",
              "[2566 rows x 1 columns]"
            ]
          },
          "metadata": {
            "tags": []
          },
          "execution_count": 14
        }
      ]
    },
    {
      "cell_type": "markdown",
      "metadata": {
        "id": "jLAkFcY4xM52",
        "colab_type": "text"
      },
      "source": [
        "## 5.2. Le cas du Stemming"
      ]
    },
    {
      "cell_type": "code",
      "metadata": {
        "id": "C3xTSLELpaDt",
        "colab_type": "code",
        "outputId": "53e31058-e233-468b-e580-bd3805c53488",
        "colab": {
          "base_uri": "https://localhost:8080/",
          "height": 402
        }
      },
      "source": [
        "from sklearn.feature_extraction.text import TfidfVectorizer\n",
        "corpus_stem = spam.Message_stemmed_without_StopWords\n",
        "\n",
        "#Initialisation du TfidfVectorizer\n",
        "vectorizer = TfidfVectorizer(sublinear_tf=True, min_df=5, norm='l2', ngram_range=(1, 2))\n",
        "\n",
        "#transformation du message stemmé\n",
        "X = vectorizer.fit_transform(corpus_stem)\n",
        "\n",
        "# on crée une dataFrame pour avoir les mots les plus fréquents et son TFIDF (ce fréquence est en pourcentage)\n",
        "df1 = pd.DataFrame(np.round(X[0].T.todense() *100,2), index=vectorizer.get_feature_names(), columns=[\"tfidf % - stemmed\"])\n",
        "df1.sort_values(by=[\"tfidf % - stemmed\"],ascending=False)"
      ],
      "execution_count": 0,
      "outputs": [
        {
          "output_type": "execute_result",
          "data": {
            "text/html": [
              "<div>\n",
              "<style scoped>\n",
              "    .dataframe tbody tr th:only-of-type {\n",
              "        vertical-align: middle;\n",
              "    }\n",
              "\n",
              "    .dataframe tbody tr th {\n",
              "        vertical-align: top;\n",
              "    }\n",
              "\n",
              "    .dataframe thead th {\n",
              "        text-align: right;\n",
              "    }\n",
              "</style>\n",
              "<table border=\"1\" class=\"dataframe\">\n",
              "  <thead>\n",
              "    <tr style=\"text-align: right;\">\n",
              "      <th></th>\n",
              "      <th>tfidf % - stemmed</th>\n",
              "    </tr>\n",
              "  </thead>\n",
              "  <tbody>\n",
              "    <tr>\n",
              "      <th>la</th>\n",
              "      <td>39.31</td>\n",
              "    </tr>\n",
              "    <tr>\n",
              "      <th>bugi</th>\n",
              "      <td>39.31</td>\n",
              "    </tr>\n",
              "    <tr>\n",
              "      <th>cine</th>\n",
              "      <td>39.31</td>\n",
              "    </tr>\n",
              "    <tr>\n",
              "      <th>avail</th>\n",
              "      <td>35.38</td>\n",
              "    </tr>\n",
              "    <tr>\n",
              "      <th>point</th>\n",
              "      <td>31.77</td>\n",
              "    </tr>\n",
              "    <tr>\n",
              "      <th>...</th>\n",
              "      <td>...</td>\n",
              "    </tr>\n",
              "    <tr>\n",
              "      <th>friend callertun</th>\n",
              "      <td>0.00</td>\n",
              "    </tr>\n",
              "    <tr>\n",
              "      <th>friend repli</th>\n",
              "      <td>0.00</td>\n",
              "    </tr>\n",
              "    <tr>\n",
              "      <th>friends</th>\n",
              "      <td>0.00</td>\n",
              "    </tr>\n",
              "    <tr>\n",
              "      <th>friendship</th>\n",
              "      <td>0.00</td>\n",
              "    </tr>\n",
              "    <tr>\n",
              "      <th>zed</th>\n",
              "      <td>0.00</td>\n",
              "    </tr>\n",
              "  </tbody>\n",
              "</table>\n",
              "<p>2534 rows × 1 columns</p>\n",
              "</div>"
            ],
            "text/plain": [
              "                  tfidf % - stemmed\n",
              "la                39.31            \n",
              "bugi              39.31            \n",
              "cine              39.31            \n",
              "avail             35.38            \n",
              "point             31.77            \n",
              "...                 ...            \n",
              "friend callertun  0.00             \n",
              "friend repli      0.00             \n",
              "friends           0.00             \n",
              "friendship        0.00             \n",
              "zed               0.00             \n",
              "\n",
              "[2534 rows x 1 columns]"
            ]
          },
          "metadata": {
            "tags": []
          },
          "execution_count": 15
        }
      ]
    },
    {
      "cell_type": "markdown",
      "metadata": {
        "id": "_6tF5a_3u_5C",
        "colab_type": "text"
      },
      "source": [
        "# <font color=\"blue\">**6 (Bonus): Lancez une classification pour détecter les *spams***</font>"
      ]
    },
    {
      "cell_type": "code",
      "metadata": {
        "id": "LtzJ3lqhpaD-",
        "colab_type": "code",
        "outputId": "8cd7b995-8324-44fb-b612-ff9b0925ab21",
        "colab": {
          "base_uri": "https://localhost:8080/",
          "height": 70
        }
      },
      "source": [
        "spam.Category.value_counts()"
      ],
      "execution_count": 0,
      "outputs": [
        {
          "output_type": "execute_result",
          "data": {
            "text/plain": [
              "ham     4825\n",
              "spam    747 \n",
              "Name: Category, dtype: int64"
            ]
          },
          "metadata": {
            "tags": []
          },
          "execution_count": 16
        }
      ]
    },
    {
      "cell_type": "markdown",
      "metadata": {
        "id": "yDR1J_lDx0sB",
        "colab_type": "text"
      },
      "source": [
        "On remarque le nombre de message par catégorie est déséquilibré, il est biasé sur le ham que le spam"
      ]
    },
    {
      "cell_type": "code",
      "metadata": {
        "id": "S2v7WbAJyG0L",
        "colab_type": "code",
        "outputId": "befe447c-2f37-4edc-aa84-471830a9d314",
        "colab": {
          "base_uri": "https://localhost:8080/",
          "height": 422
        }
      },
      "source": [
        "import matplotlib.pyplot as plt\n",
        "spam.groupby('Category').Message_with_stopwords.count().plot.bar(ylim=0,figsize=(8,6))"
      ],
      "execution_count": 0,
      "outputs": [
        {
          "output_type": "execute_result",
          "data": {
            "text/plain": [
              "<matplotlib.axes._subplots.AxesSubplot at 0x7f21e0d6a898>"
            ]
          },
          "metadata": {
            "tags": []
          },
          "execution_count": 17
        },
        {
          "output_type": "display_data",
          "data": {
            "image/png": "[encoded data removed]",
            "text/plain": [
              "<Figure size 576x432 with 1 Axes>"
            ]
          },
          "metadata": {
            "tags": []
          }
        }
      ]
    },
    {
      "cell_type": "markdown",
      "metadata": {
        "id": "dmxodxIbz-iq",
        "colab_type": "text"
      },
      "source": [
        "## 6.1. Le cas du stemming"
      ]
    },
    {
      "cell_type": "markdown",
      "metadata": {
        "id": "ywiY6StK0QIL",
        "colab_type": "text"
      },
      "source": [
        "On créer le column category_id pour assigner chaque catégorie un ID, et aussi supprimer les messages dupliqués"
      ]
    },
    {
      "cell_type": "code",
      "metadata": {
        "id": "nro-kS8gpaER",
        "colab_type": "code",
        "colab": {}
      },
      "source": [
        "spam['category_id'] = spam.Category.factorize()[0]\n",
        "category_id_df = spam[['Category', 'category_id']].drop_duplicates().sort_values('category_id')\n",
        "category_to_id = dict(category_id_df.values)\n",
        "id_to_category = dict(category_id_df[['category_id', 'Category']].values)"
      ],
      "execution_count": 0,
      "outputs": []
    },
    {
      "cell_type": "markdown",
      "metadata": {
        "id": "GtFcat500quA",
        "colab_type": "text"
      },
      "source": [
        "Création de dataframe spécifique au message stémmer"
      ]
    },
    {
      "cell_type": "code",
      "metadata": {
        "id": "wXK2rIx_paEn",
        "colab_type": "code",
        "colab": {}
      },
      "source": [
        "col = ['Category', 'Message_stemmed_without_StopWords','category_id']\n",
        "df_stem = spam[col]"
      ],
      "execution_count": 0,
      "outputs": []
    },
    {
      "cell_type": "code",
      "metadata": {
        "id": "jgBG8oKKpaEs",
        "colab_type": "code",
        "outputId": "be9b9fbe-ce97-4b42-fced-ff5e29a73029",
        "colab": {
          "base_uri": "https://localhost:8080/",
          "height": 212
        }
      },
      "source": [
        "df_stem.head()"
      ],
      "execution_count": 0,
      "outputs": [
        {
          "output_type": "execute_result",
          "data": {
            "text/html": [
              "<div>\n",
              "<style scoped>\n",
              "    .dataframe tbody tr th:only-of-type {\n",
              "        vertical-align: middle;\n",
              "    }\n",
              "\n",
              "    .dataframe tbody tr th {\n",
              "        vertical-align: top;\n",
              "    }\n",
              "\n",
              "    .dataframe thead th {\n",
              "        text-align: right;\n",
              "    }\n",
              "</style>\n",
              "<table border=\"1\" class=\"dataframe\">\n",
              "  <thead>\n",
              "    <tr style=\"text-align: right;\">\n",
              "      <th></th>\n",
              "      <th>Category</th>\n",
              "      <th>Message_stemmed_without_StopWords</th>\n",
              "      <th>category_id</th>\n",
              "    </tr>\n",
              "  </thead>\n",
              "  <tbody>\n",
              "    <tr>\n",
              "      <th>0</th>\n",
              "      <td>ham</td>\n",
              "      <td>go jurong point , crazy.. avail bugi n great world la e buffet ... cine got amor wat ...</td>\n",
              "      <td>0</td>\n",
              "    </tr>\n",
              "    <tr>\n",
              "      <th>1</th>\n",
              "      <td>ham</td>\n",
              "      <td>ok lar ... joke wif u oni ...</td>\n",
              "      <td>0</td>\n",
              "    </tr>\n",
              "    <tr>\n",
              "      <th>2</th>\n",
              "      <td>spam</td>\n",
              "      <td>free entri 2 wkli comp win fa cup final tkts 21st may 2005 . text fa 87121 receiv entri question ( std txt rate ) t &amp; c 's appli 08452810075over18 's</td>\n",
              "      <td>1</td>\n",
              "    </tr>\n",
              "    <tr>\n",
              "      <th>3</th>\n",
              "      <td>ham</td>\n",
              "      <td>u dun say earli hor ... u c alreadi say ...</td>\n",
              "      <td>0</td>\n",
              "    </tr>\n",
              "    <tr>\n",
              "      <th>4</th>\n",
              "      <td>ham</td>\n",
              "      <td>nah i n't think goe usf , live around though</td>\n",
              "      <td>0</td>\n",
              "    </tr>\n",
              "  </tbody>\n",
              "</table>\n",
              "</div>"
            ],
            "text/plain": [
              "  Category  ... category_id\n",
              "0  ham      ...  0         \n",
              "1  ham      ...  0         \n",
              "2  spam     ...  1         \n",
              "3  ham      ...  0         \n",
              "4  ham      ...  0         \n",
              "\n",
              "[5 rows x 3 columns]"
            ]
          },
          "metadata": {
            "tags": []
          },
          "execution_count": 20
        }
      ]
    },
    {
      "cell_type": "markdown",
      "metadata": {
        "id": "ZDmA1G6Wy7So",
        "colab_type": "text"
      },
      "source": [
        "Maintenant, chacun des 5572 messages stemmés est représenté par 2534 fonctionnalités, représentant le score tf-idf pour différents unigrammes et bigrammes"
      ]
    },
    {
      "cell_type": "code",
      "metadata": {
        "id": "aOs3R6oCpaEM",
        "colab_type": "code",
        "outputId": "518bce1e-6708-41b2-e3bb-b5b5d73d7ff5",
        "colab": {
          "base_uri": "https://localhost:8080/",
          "height": 34
        }
      },
      "source": [
        "from sklearn.feature_extraction.text import TfidfVectorizer\n",
        "corpus_stem = spam.Message_stemmed_without_StopWords\n",
        "vectorizer = TfidfVectorizer(sublinear_tf=True, min_df=5, norm='l2', ngram_range=(1, 2))\n",
        "featuresStem = vectorizer.fit_transform(corpus_stem).toarray()\n",
        "labels = df_stem.category_id\n",
        "featuresStem.shape"
      ],
      "execution_count": 0,
      "outputs": [
        {
          "output_type": "execute_result",
          "data": {
            "text/plain": [
              "(5572, 2534)"
            ]
          },
          "metadata": {
            "tags": []
          },
          "execution_count": 21
        }
      ]
    },
    {
      "cell_type": "markdown",
      "metadata": {
        "id": "BCDjJum102Di",
        "colab_type": "text"
      },
      "source": [
        "### 6.1.1. Classification à l'aide du Naive bayes"
      ]
    },
    {
      "cell_type": "code",
      "metadata": {
        "id": "9UmH7Jb-paE2",
        "colab_type": "code",
        "colab": {}
      },
      "source": [
        "from sklearn.model_selection import train_test_split\n",
        "from sklearn.feature_extraction.text import CountVectorizer\n",
        "from sklearn.feature_extraction.text import TfidfTransformer\n",
        "from sklearn.naive_bayes import MultinomialNB\n",
        "\n",
        "X_train, X_test, y_train, y_test = train_test_split(df_stem['Message_stemmed_without_StopWords'], df_stem['Category'], random_state = 0)\n",
        "count_vect = CountVectorizer()\n",
        "X_train_counts = count_vect.fit_transform(X_train)\n",
        "tfidf_transformer = TfidfTransformer()\n",
        "X_train_tfidf = tfidf_transformer.fit_transform(X_train_counts)\n",
        "\n",
        "clf = MultinomialNB().fit(X_train_tfidf, y_train)\n",
        "y_pred = clf.predict(count_vect.transform(X_test))"
      ],
      "execution_count": 0,
      "outputs": []
    },
    {
      "cell_type": "code",
      "metadata": {
        "id": "1izmZb2iw3Ov",
        "colab_type": "code",
        "outputId": "94c71c1d-2a39-4105-ebf6-f6a3cfbdc9ac",
        "colab": {
          "base_uri": "https://localhost:8080/",
          "height": 175
        }
      },
      "source": [
        "from sklearn import metrics\n",
        "print(metrics.classification_report(y_test, y_pred, target_names=df_stem['Category'].unique()))"
      ],
      "execution_count": 0,
      "outputs": [
        {
          "output_type": "stream",
          "text": [
            "              precision    recall  f1-score   support\n",
            "\n",
            "         ham       0.98      1.00      0.99      1208\n",
            "        spam       0.99      0.89      0.94       185\n",
            "\n",
            "    accuracy                           0.98      1393\n",
            "   macro avg       0.99      0.94      0.96      1393\n",
            "weighted avg       0.98      0.98      0.98      1393\n",
            "\n"
          ],
          "name": "stdout"
        }
      ]
    },
    {
      "cell_type": "code",
      "metadata": {
        "id": "jgFWSxQ7paE6",
        "colab_type": "code",
        "outputId": "850cfa70-51b7-496f-8dd4-a930f3ff17ea",
        "colab": {
          "base_uri": "https://localhost:8080/",
          "height": 34
        }
      },
      "source": [
        "print(clf.predict(count_vect.transform([\"Free entry 2 wkly comp win FA Cup final tkts 21st May 2005 . Text FA 87121 receive entry question ( std txt rate ) T & C 's apply 08452810075over18 's\"])))"
      ],
      "execution_count": 0,
      "outputs": [
        {
          "output_type": "stream",
          "text": [
            "['spam']\n"
          ],
          "name": "stdout"
        }
      ]
    },
    {
      "cell_type": "code",
      "metadata": {
        "id": "5myKRjX5paE_",
        "colab_type": "code",
        "outputId": "2e19fb36-0ea4-44d4-fd67-025bd16eb343",
        "colab": {
          "base_uri": "https://localhost:8080/",
          "height": 34
        }
      },
      "source": [
        "print(clf.predict(count_vect.transform([\"Nah I n't think go usf , life around though\"])))"
      ],
      "execution_count": 0,
      "outputs": [
        {
          "output_type": "stream",
          "text": [
            "['ham']\n"
          ],
          "name": "stdout"
        }
      ]
    },
    {
      "cell_type": "markdown",
      "metadata": {
        "id": "tZxOPEOP34LN",
        "colab_type": "text"
      },
      "source": [
        "On remarque, il y a 22 messages qui a été confusioner (21 spam, 1 ham)"
      ]
    },
    {
      "cell_type": "code",
      "metadata": {
        "id": "5_9AetF1paFG",
        "colab_type": "code",
        "outputId": "65985204-3f4d-47ff-9361-cd1201d9e956",
        "colab": {
          "base_uri": "https://localhost:8080/",
          "height": 388
        }
      },
      "source": [
        "from sklearn.metrics import confusion_matrix\n",
        "import seaborn as sns\n",
        "import matplotlib.pyplot as plt\n",
        "\n",
        "conf_mat = confusion_matrix(y_test, y_pred)\n",
        "fig, ax = plt.subplots(figsize=(8,6))\n",
        "sns.heatmap(conf_mat, annot=True, fmt='d',\n",
        "            xticklabels=category_id_df.Category.values, yticklabels=category_id_df.Category.values)\n",
        "plt.ylabel('Actual')\n",
        "plt.xlabel('Predicted')\n",
        "plt.show()"
      ],
      "execution_count": 0,
      "outputs": [
        {
          "output_type": "display_data",
          "data": {
            "image/png": "[encoded data removed]",
            "text/plain": [
              "<Figure size 576x432 with 2 Axes>"
            ]
          },
          "metadata": {
            "tags": []
          }
        }
      ]
    },
    {
      "cell_type": "markdown",
      "metadata": {
        "id": "YnZZwbEf4IIj",
        "colab_type": "text"
      },
      "source": [
        "### 6.1.2. Classification par Linear SVC (svm)"
      ]
    },
    {
      "cell_type": "code",
      "metadata": {
        "id": "gJs3Jk27paFQ",
        "colab_type": "code",
        "colab": {}
      },
      "source": [
        "from sklearn.model_selection import train_test_split\n",
        "from sklearn.svm import LinearSVC\n",
        "\n",
        "model = LinearSVC()\n",
        "\n",
        "X_train, X_test, y_train, y_test, indices_train, indices_test = train_test_split(featuresStem, labels, df_stem.index, test_size=0.33, random_state=0)\n",
        "model.fit(X_train, y_train)\n",
        "y_pred = model.predict(X_test)"
      ],
      "execution_count": 0,
      "outputs": []
    },
    {
      "cell_type": "markdown",
      "metadata": {
        "id": "BZRcNRos4g4u",
        "colab_type": "text"
      },
      "source": [
        "On remarque le f1-score du LinearSVC est améliorer comparant au Naive Bayes"
      ]
    },
    {
      "cell_type": "code",
      "metadata": {
        "id": "UkErQi5lpaFX",
        "colab_type": "code",
        "outputId": "83f017c9-fe35-4ec1-ddd5-dfb57307507c",
        "colab": {
          "base_uri": "https://localhost:8080/",
          "height": 175
        }
      },
      "source": [
        "from sklearn import metrics\n",
        "print(metrics.classification_report(y_test, y_pred, target_names=df_stem['Category'].unique()))"
      ],
      "execution_count": 0,
      "outputs": [
        {
          "output_type": "stream",
          "text": [
            "              precision    recall  f1-score   support\n",
            "\n",
            "         ham       0.99      1.00      0.99      1597\n",
            "        spam       0.99      0.93      0.96       242\n",
            "\n",
            "    accuracy                           0.99      1839\n",
            "   macro avg       0.99      0.96      0.98      1839\n",
            "weighted avg       0.99      0.99      0.99      1839\n",
            "\n"
          ],
          "name": "stdout"
        }
      ]
    },
    {
      "cell_type": "code",
      "metadata": {
        "id": "DOVdvCHYpaFd",
        "colab_type": "code",
        "outputId": "fe3710f3-98f7-4fb5-88fc-088db9cc4b88",
        "colab": {
          "base_uri": "https://localhost:8080/",
          "height": 388
        }
      },
      "source": [
        "from sklearn.metrics import confusion_matrix\n",
        "import seaborn as sns\n",
        "import matplotlib.pyplot as plt\n",
        "\n",
        "conf_mat = confusion_matrix(y_test, y_pred)\n",
        "fig, ax = plt.subplots(figsize=(8,6))\n",
        "sns.heatmap(conf_mat, annot=True, fmt='d',\n",
        "            xticklabels=category_id_df.Category.values, yticklabels=category_id_df.Category.values)\n",
        "plt.ylabel('Actuel')\n",
        "plt.xlabel('Prédit')\n",
        "plt.show()"
      ],
      "execution_count": 0,
      "outputs": [
        {
          "output_type": "display_data",
          "data": {
            "image/png": "[encoded data removed]",
            "text/plain": [
              "<Figure size 576x432 with 2 Axes>"
            ]
          },
          "metadata": {
            "tags": []
          }
        }
      ]
    },
    {
      "cell_type": "markdown",
      "metadata": {
        "id": "HGE0AjFI5KJ2",
        "colab_type": "text"
      },
      "source": [
        "On remarque un petit peu d'amélioration, alors SVM est un bon choix pour ce cas de dataSet "
      ]
    },
    {
      "cell_type": "code",
      "metadata": {
        "id": "8iz2DK4OpaFh",
        "colab_type": "code",
        "outputId": "037567ac-bdfd-46f7-a4d0-2d945a09b883",
        "colab": {
          "base_uri": "https://localhost:8080/",
          "height": 615
        }
      },
      "source": [
        "from IPython.display import display\n",
        "\n",
        "for predicted in category_id_df.category_id:\n",
        "  for actual in category_id_df.category_id:\n",
        "    if predicted != actual and conf_mat[actual, predicted] >= 6:\n",
        "      print(\"'{}' est prédit comme '{}' : {} exemples.\".format(id_to_category[actual], id_to_category[predicted], conf_mat[actual, predicted]))\n",
        "      display(df_stem.loc[indices_test[(y_test == actual) & (y_pred == predicted)]][['Category', 'Message_stemmed_without_StopWords']])\n",
        "      print('')"
      ],
      "execution_count": 0,
      "outputs": [
        {
          "output_type": "stream",
          "text": [
            "'spam' est prédit comme 'ham' : 18 exemples.\n"
          ],
          "name": "stdout"
        },
        {
          "output_type": "display_data",
          "data": {
            "text/html": [
              "<div>\n",
              "<style scoped>\n",
              "    .dataframe tbody tr th:only-of-type {\n",
              "        vertical-align: middle;\n",
              "    }\n",
              "\n",
              "    .dataframe tbody tr th {\n",
              "        vertical-align: top;\n",
              "    }\n",
              "\n",
              "    .dataframe thead th {\n",
              "        text-align: right;\n",
              "    }\n",
              "</style>\n",
              "<table border=\"1\" class=\"dataframe\">\n",
              "  <thead>\n",
              "    <tr style=\"text-align: right;\">\n",
              "      <th></th>\n",
              "      <th>Category</th>\n",
              "      <th>Message_stemmed_without_StopWords</th>\n",
              "    </tr>\n",
              "  </thead>\n",
              "  <tbody>\n",
              "    <tr>\n",
              "      <th>684</th>\n",
              "      <td>spam</td>\n",
              "      <td>hi i 'm sue . i 20 year old work lapdanc . i love sex . text live - i 'm bedroom . text sue 89555 . by textoper g2 1da 150ppmsg 18+</td>\n",
              "    </tr>\n",
              "    <tr>\n",
              "      <th>731</th>\n",
              "      <td>spam</td>\n",
              "      <td>email alertfrom : jeri stewarts : 2kbsubject : low-cost prescripiton drvgsto listen email call 123</td>\n",
              "    </tr>\n",
              "    <tr>\n",
              "      <th>1940</th>\n",
              "      <td>spam</td>\n",
              "      <td>more peopl dog area . call 09090204448 join like mind guy . whi arrang 1 . there 's 1 even . a£1.50 minapn ls278bb</td>\n",
              "    </tr>\n",
              "    <tr>\n",
              "      <th>751</th>\n",
              "      <td>spam</td>\n",
              "      <td>do realiz 40 year , ll thousand old ladi run around tattoo ?</td>\n",
              "    </tr>\n",
              "    <tr>\n",
              "      <th>4213</th>\n",
              "      <td>spam</td>\n",
              "      <td>miss call alert . these number call left messag . 07008009200</td>\n",
              "    </tr>\n",
              "    <tr>\n",
              "      <th>4298</th>\n",
              "      <td>spam</td>\n",
              "      <td>thesmszone.com let send free anonym mask messages..im send messag there..do see potenti abus ? ? ?</td>\n",
              "    </tr>\n",
              "    <tr>\n",
              "      <th>5466</th>\n",
              "      <td>spam</td>\n",
              "      <td>http//tms . widelive.com/index . wml ? id=820554ad0a1705572711 &amp; first=true¡c c ringtone¡</td>\n",
              "    </tr>\n",
              "    <tr>\n",
              "      <th>333</th>\n",
              "      <td>spam</td>\n",
              "      <td>call germani 1 penc per minut ! call fix line via access number 0844 861 85 85 . no prepay . direct access !</td>\n",
              "    </tr>\n",
              "    <tr>\n",
              "      <th>3864</th>\n",
              "      <td>spam</td>\n",
              "      <td>oh god ! i ve found number ! i 'm glad , text back xafter msgs cst std ntwk chg £1.50</td>\n",
              "    </tr>\n",
              "    <tr>\n",
              "      <th>5449</th>\n",
              "      <td>spam</td>\n",
              "      <td>latest news ! polic station toilet stolen , cop noth go !</td>\n",
              "    </tr>\n",
              "    <tr>\n",
              "      <th>1430</th>\n",
              "      <td>spam</td>\n",
              "      <td>for sale - arsenal dartboard . good condit doubl trebl !</td>\n",
              "    </tr>\n",
              "    <tr>\n",
              "      <th>2247</th>\n",
              "      <td>spam</td>\n",
              "      <td>hi ya babe x u 4goten bout ? ' scammer get smart..though regular vodafon , respond get prem rate msg/subscript . other nos use also . bewar !</td>\n",
              "    </tr>\n",
              "    <tr>\n",
              "      <th>3991</th>\n",
              "      <td>spam</td>\n",
              "      <td>( bank granit issu strong-buy ) explos pick for our member *****up over 300 % *********** nasdaq symbol cdgt that $ 5.00 per..</td>\n",
              "    </tr>\n",
              "    <tr>\n",
              "      <th>3460</th>\n",
              "      <td>spam</td>\n",
              "      <td>not heard u4 . call night knicker . make beg like u last time 01223585236 xx luv nikiyu4.net</td>\n",
              "    </tr>\n",
              "    <tr>\n",
              "      <th>2823</th>\n",
              "      <td>spam</td>\n",
              "      <td>romcapspam everyon around respond well presenc sinc warm outgo . you bring real breath sunshin .</td>\n",
              "    </tr>\n",
              "    <tr>\n",
              "      <th>2402</th>\n",
              "      <td>spam</td>\n",
              "      <td>babe : u want dont u babi ! im nasti thing 4 filthyguy . fanci rude time sexi bitch . how go slo n hard ! txt xxx slo ( 4msgs )</td>\n",
              "    </tr>\n",
              "    <tr>\n",
              "      <th>3501</th>\n",
              "      <td>spam</td>\n",
              "      <td>dorothi @ kiefer.com ( bank granit issu strong-buy ) explos pick for our member *****up over 300 % *********** nasdaq symbol cdgt that $ 5.00 per..</td>\n",
              "    </tr>\n",
              "    <tr>\n",
              "      <th>4821</th>\n",
              "      <td>spam</td>\n",
              "      <td>check out choos your babe video @ sms.shsex.netun fgkslpopw fgkslpo</td>\n",
              "    </tr>\n",
              "  </tbody>\n",
              "</table>\n",
              "</div>"
            ],
            "text/plain": [
              "     Category                                                                                                                    Message_stemmed_without_StopWords\n",
              "684   spam     hi i 'm sue . i 20 year old work lapdanc . i love sex . text live - i 'm bedroom . text sue 89555 . by textoper g2 1da 150ppmsg 18+                \n",
              "731   spam     email alertfrom : jeri stewarts : 2kbsubject : low-cost prescripiton drvgsto listen email call 123                                                 \n",
              "1940  spam     more peopl dog area . call 09090204448 join like mind guy . whi arrang 1 . there 's 1 even . a£1.50 minapn ls278bb                                 \n",
              "751   spam     do realiz 40 year , ll thousand old ladi run around tattoo ?                                                                                       \n",
              "4213  spam     miss call alert . these number call left messag . 07008009200                                                                                      \n",
              "4298  spam     thesmszone.com let send free anonym mask messages..im send messag there..do see potenti abus ? ? ?                                                 \n",
              "5466  spam     http//tms . widelive.com/index . wml ? id=820554ad0a1705572711 & first=true¡c c ringtone¡                                                          \n",
              "333   spam     call germani 1 penc per minut ! call fix line via access number 0844 861 85 85 . no prepay . direct access !                                       \n",
              "3864  spam     oh god ! i ve found number ! i 'm glad , text back xafter msgs cst std ntwk chg £1.50                                                              \n",
              "5449  spam     latest news ! polic station toilet stolen , cop noth go !                                                                                          \n",
              "1430  spam     for sale - arsenal dartboard . good condit doubl trebl !                                                                                           \n",
              "2247  spam     hi ya babe x u 4goten bout ? ' scammer get smart..though regular vodafon , respond get prem rate msg/subscript . other nos use also . bewar !      \n",
              "3991  spam     ( bank granit issu strong-buy ) explos pick for our member *****up over 300 % *********** nasdaq symbol cdgt that $ 5.00 per..                     \n",
              "3460  spam     not heard u4 . call night knicker . make beg like u last time 01223585236 xx luv nikiyu4.net                                                       \n",
              "2823  spam     romcapspam everyon around respond well presenc sinc warm outgo . you bring real breath sunshin .                                                   \n",
              "2402  spam     babe : u want dont u babi ! im nasti thing 4 filthyguy . fanci rude time sexi bitch . how go slo n hard ! txt xxx slo ( 4msgs )                    \n",
              "3501  spam     dorothi @ kiefer.com ( bank granit issu strong-buy ) explos pick for our member *****up over 300 % *********** nasdaq symbol cdgt that $ 5.00 per..\n",
              "4821  spam     check out choos your babe video @ sms.shsex.netun fgkslpopw fgkslpo                                                                                "
            ]
          },
          "metadata": {
            "tags": []
          }
        },
        {
          "output_type": "stream",
          "text": [
            "\n"
          ],
          "name": "stdout"
        }
      ]
    },
    {
      "cell_type": "code",
      "metadata": {
        "id": "_J_FXRewpaFk",
        "colab_type": "code",
        "colab": {}
      },
      "source": [
        ""
      ],
      "execution_count": 0,
      "outputs": []
    },
    {
      "cell_type": "markdown",
      "metadata": {
        "colab_type": "text",
        "id": "6EnkB1U75g_q"
      },
      "source": [
        "\n",
        "## 6.2. Le cas du Lemmatization"
      ]
    },
    {
      "cell_type": "markdown",
      "metadata": {
        "colab_type": "text",
        "id": "qaFeUq4x5g_v"
      },
      "source": [
        "Création de dataframe spécifique au message Lemmatizé"
      ]
    },
    {
      "cell_type": "code",
      "metadata": {
        "colab_type": "code",
        "id": "eo0mCQlF5g_y",
        "colab": {}
      },
      "source": [
        "col = ['Category', 'Message_lemmatized_before_stemming','category_id']\n",
        "df_lem = spam[col]"
      ],
      "execution_count": 0,
      "outputs": []
    },
    {
      "cell_type": "code",
      "metadata": {
        "colab_type": "code",
        "outputId": "20be06a6-f249-4a26-8697-a51975167dc4",
        "id": "O1FDhanu5g_1",
        "colab": {
          "base_uri": "https://localhost:8080/",
          "height": 212
        }
      },
      "source": [
        "df_lem.head()"
      ],
      "execution_count": 0,
      "outputs": [
        {
          "output_type": "execute_result",
          "data": {
            "text/html": [
              "<div>\n",
              "<style scoped>\n",
              "    .dataframe tbody tr th:only-of-type {\n",
              "        vertical-align: middle;\n",
              "    }\n",
              "\n",
              "    .dataframe tbody tr th {\n",
              "        vertical-align: top;\n",
              "    }\n",
              "\n",
              "    .dataframe thead th {\n",
              "        text-align: right;\n",
              "    }\n",
              "</style>\n",
              "<table border=\"1\" class=\"dataframe\">\n",
              "  <thead>\n",
              "    <tr style=\"text-align: right;\">\n",
              "      <th></th>\n",
              "      <th>Category</th>\n",
              "      <th>Message_lemmatized_before_stemming</th>\n",
              "      <th>category_id</th>\n",
              "    </tr>\n",
              "  </thead>\n",
              "  <tbody>\n",
              "    <tr>\n",
              "      <th>0</th>\n",
              "      <td>ham</td>\n",
              "      <td>Go jurong point , crazy.. Available bugis n great world la e buffet ... Cine got amore wat ...</td>\n",
              "      <td>0</td>\n",
              "    </tr>\n",
              "    <tr>\n",
              "      <th>1</th>\n",
              "      <td>ham</td>\n",
              "      <td>Ok lar ... Joking wif u oni ...</td>\n",
              "      <td>0</td>\n",
              "    </tr>\n",
              "    <tr>\n",
              "      <th>2</th>\n",
              "      <td>spam</td>\n",
              "      <td>Free entry 2 wkly comp win FA Cup final tkts 21st May 2005 . Text FA 87121 receive entry question ( std txt rate ) T &amp; C 's apply 08452810075over18 's</td>\n",
              "      <td>1</td>\n",
              "    </tr>\n",
              "    <tr>\n",
              "      <th>3</th>\n",
              "      <td>ham</td>\n",
              "      <td>U dun say early hor ... U c already say ...</td>\n",
              "      <td>0</td>\n",
              "    </tr>\n",
              "    <tr>\n",
              "      <th>4</th>\n",
              "      <td>ham</td>\n",
              "      <td>Nah I n't think go usf , life around though</td>\n",
              "      <td>0</td>\n",
              "    </tr>\n",
              "  </tbody>\n",
              "</table>\n",
              "</div>"
            ],
            "text/plain": [
              "  Category  ... category_id\n",
              "0  ham      ...  0         \n",
              "1  ham      ...  0         \n",
              "2  spam     ...  1         \n",
              "3  ham      ...  0         \n",
              "4  ham      ...  0         \n",
              "\n",
              "[5 rows x 3 columns]"
            ]
          },
          "metadata": {
            "tags": []
          },
          "execution_count": 34
        }
      ]
    },
    {
      "cell_type": "markdown",
      "metadata": {
        "colab_type": "text",
        "id": "ptWn7yRg5g_5"
      },
      "source": [
        "Maintenant, chacun des 5572 messages Lemmatizés est représenté par 2534 fonctionnalités, représentant le score tf-idf pour différents unigrammes et bigrammes"
      ]
    },
    {
      "cell_type": "code",
      "metadata": {
        "colab_type": "code",
        "outputId": "46a61288-8350-44ae-a200-99c5255385c0",
        "id": "VMj1vFpJ5g_6",
        "colab": {
          "base_uri": "https://localhost:8080/",
          "height": 34
        }
      },
      "source": [
        "from sklearn.feature_extraction.text import TfidfVectorizer\n",
        "corpus_stem = df_lem.Message_lemmatized_before_stemming\n",
        "vectorizer = TfidfVectorizer(sublinear_tf=True, min_df=5, norm='l2', ngram_range=(1, 2))\n",
        "featuresLem = vectorizer.fit_transform(corpus_stem).toarray()\n",
        "labels = df_lem.category_id\n",
        "featuresLem.shape"
      ],
      "execution_count": 0,
      "outputs": [
        {
          "output_type": "execute_result",
          "data": {
            "text/plain": [
              "(5572, 2566)"
            ]
          },
          "metadata": {
            "tags": []
          },
          "execution_count": 36
        }
      ]
    },
    {
      "cell_type": "markdown",
      "metadata": {
        "colab_type": "text",
        "id": "m3AcMEM55g__"
      },
      "source": [
        "#### 6.2.1. Classification à l'aide du Naive bayes"
      ]
    },
    {
      "cell_type": "code",
      "metadata": {
        "colab_type": "code",
        "id": "GDVyKOtE5hAA",
        "colab": {}
      },
      "source": [
        "from sklearn.model_selection import train_test_split\n",
        "from sklearn.feature_extraction.text import CountVectorizer\n",
        "from sklearn.feature_extraction.text import TfidfTransformer\n",
        "from sklearn.naive_bayes import MultinomialNB\n",
        "\n",
        "X_train, X_test, y_train, y_test = train_test_split(df_lem['Message_lemmatized_before_stemming'], df_lem['Category'], random_state = 0)\n",
        "count_vect = CountVectorizer()\n",
        "X_train_counts = count_vect.fit_transform(X_train)\n",
        "tfidf_transformer = TfidfTransformer()\n",
        "X_train_tfidf = tfidf_transformer.fit_transform(X_train_counts)\n",
        "\n",
        "clf = MultinomialNB().fit(X_train_tfidf, y_train)\n",
        "y_pred = clf.predict(count_vect.transform(X_test))"
      ],
      "execution_count": 0,
      "outputs": []
    },
    {
      "cell_type": "markdown",
      "metadata": {
        "id": "ubAOz_Fn71H7",
        "colab_type": "text"
      },
      "source": [
        "#####6.2.1.1. F1-Score"
      ]
    },
    {
      "cell_type": "code",
      "metadata": {
        "colab_type": "code",
        "outputId": "d600749a-cca9-4fe6-a007-127243502c1d",
        "id": "Farl3n865hAC",
        "colab": {
          "base_uri": "https://localhost:8080/",
          "height": 175
        }
      },
      "source": [
        "from sklearn import metrics\n",
        "print(metrics.classification_report(y_test, y_pred, target_names=df_lem['Category'].unique()))"
      ],
      "execution_count": 0,
      "outputs": [
        {
          "output_type": "stream",
          "text": [
            "              precision    recall  f1-score   support\n",
            "\n",
            "         ham       0.98      1.00      0.99      1208\n",
            "        spam       1.00      0.88      0.94       185\n",
            "\n",
            "    accuracy                           0.98      1393\n",
            "   macro avg       0.99      0.94      0.96      1393\n",
            "weighted avg       0.98      0.98      0.98      1393\n",
            "\n"
          ],
          "name": "stdout"
        }
      ]
    },
    {
      "cell_type": "code",
      "metadata": {
        "colab_type": "code",
        "outputId": "97338842-307d-4c9f-c05c-463e8fddab23",
        "id": "Q0P9HCGM5hAF",
        "colab": {
          "base_uri": "https://localhost:8080/",
          "height": 34
        }
      },
      "source": [
        "print(clf.predict(count_vect.transform([\"Free entry 2 wkly comp win FA Cup final tkts 21st May 2005 . Text FA 87121 receive entry question ( std txt rate ) T & C 's apply 08452810075over18 's\"])))"
      ],
      "execution_count": 0,
      "outputs": [
        {
          "output_type": "stream",
          "text": [
            "['spam']\n"
          ],
          "name": "stdout"
        }
      ]
    },
    {
      "cell_type": "code",
      "metadata": {
        "colab_type": "code",
        "outputId": "0cc5c06a-b266-4fa0-b097-8dcdd330b4b3",
        "id": "ptPFEuio5hAI",
        "colab": {
          "base_uri": "https://localhost:8080/",
          "height": 34
        }
      },
      "source": [
        "print(clf.predict(count_vect.transform([\"Nah I n't think go usf , life around though\"])))"
      ],
      "execution_count": 0,
      "outputs": [
        {
          "output_type": "stream",
          "text": [
            "['ham']\n"
          ],
          "name": "stdout"
        }
      ]
    },
    {
      "cell_type": "markdown",
      "metadata": {
        "colab_type": "text",
        "id": "HzNSltF75hAL"
      },
      "source": [
        "On remarque, il y a 22 messages qui a été confusioner (22 ham comme  spam, 0 spam comme ham)"
      ]
    },
    {
      "cell_type": "code",
      "metadata": {
        "colab_type": "code",
        "outputId": "2ce176b5-dcbb-4bb8-f586-eb597c56d629",
        "id": "xBaEUblc5hAN",
        "colab": {
          "base_uri": "https://localhost:8080/",
          "height": 388
        }
      },
      "source": [
        "from sklearn.metrics import confusion_matrix\n",
        "import seaborn as sns\n",
        "import matplotlib.pyplot as plt\n",
        "\n",
        "conf_mat = confusion_matrix(y_test, y_pred)\n",
        "fig, ax = plt.subplots(figsize=(8,6))\n",
        "sns.heatmap(conf_mat, annot=True, fmt='d',\n",
        "            xticklabels=category_id_df.Category.values, yticklabels=category_id_df.Category.values)\n",
        "plt.ylabel('Actuel')\n",
        "plt.xlabel('Prédit')\n",
        "plt.show()"
      ],
      "execution_count": 0,
      "outputs": [
        {
          "output_type": "display_data",
          "data": {
            "image/png": "[encoded data removed]",
            "text/plain": [
              "<Figure size 576x432 with 2 Axes>"
            ]
          },
          "metadata": {
            "tags": []
          }
        }
      ]
    },
    {
      "cell_type": "markdown",
      "metadata": {
        "colab_type": "text",
        "id": "ttDjPV7E5hAQ"
      },
      "source": [
        "#### 6.2.2. Classification par Linear SVC (svm)"
      ]
    },
    {
      "cell_type": "code",
      "metadata": {
        "colab_type": "code",
        "id": "YfmW2GnL5hAR",
        "colab": {}
      },
      "source": [
        "from sklearn.model_selection import train_test_split\n",
        "from sklearn.svm import LinearSVC\n",
        "\n",
        "model = LinearSVC()\n",
        "\n",
        "X_train, X_test, y_train, y_test, indices_train, indices_test = train_test_split(featuresLem, labels, df_lem.index, test_size=0.33, random_state=0)\n",
        "model.fit(X_train, y_train)\n",
        "y_pred = model.predict(X_test)"
      ],
      "execution_count": 0,
      "outputs": []
    },
    {
      "cell_type": "markdown",
      "metadata": {
        "colab_type": "text",
        "id": "yg8lmpWk5hAT"
      },
      "source": [
        "On remarque le f1-score du LinearSVC est améliorer comparant au Naive Bayes"
      ]
    },
    {
      "cell_type": "markdown",
      "metadata": {
        "id": "tX3QDxsG7_1p",
        "colab_type": "text"
      },
      "source": [
        "#####6.2.2.1 f1-score"
      ]
    },
    {
      "cell_type": "code",
      "metadata": {
        "colab_type": "code",
        "outputId": "26886a4a-ce28-4269-d323-fe0f7e03844a",
        "id": "1bI6ucAa5hAW",
        "colab": {
          "base_uri": "https://localhost:8080/",
          "height": 175
        }
      },
      "source": [
        "from sklearn import metrics\n",
        "print(metrics.classification_report(y_test, y_pred, target_names=df_stem['Category'].unique()))"
      ],
      "execution_count": 0,
      "outputs": [
        {
          "output_type": "stream",
          "text": [
            "              precision    recall  f1-score   support\n",
            "\n",
            "         ham       0.99      1.00      0.99      1597\n",
            "        spam       1.00      0.93      0.96       242\n",
            "\n",
            "    accuracy                           0.99      1839\n",
            "   macro avg       0.99      0.96      0.98      1839\n",
            "weighted avg       0.99      0.99      0.99      1839\n",
            "\n"
          ],
          "name": "stdout"
        }
      ]
    },
    {
      "cell_type": "code",
      "metadata": {
        "colab_type": "code",
        "outputId": "1cdc9cd7-8fe7-4967-8653-ca5ac3dd0470",
        "id": "_YHFm-MZ5hAY",
        "colab": {
          "base_uri": "https://localhost:8080/",
          "height": 388
        }
      },
      "source": [
        "from sklearn.metrics import confusion_matrix\n",
        "import seaborn as sns\n",
        "import matplotlib.pyplot as plt\n",
        "\n",
        "conf_mat = confusion_matrix(y_test, y_pred)\n",
        "fig, ax = plt.subplots(figsize=(8,6))\n",
        "sns.heatmap(conf_mat, annot=True, fmt='d',\n",
        "            xticklabels=category_id_df.Category.values, yticklabels=category_id_df.Category.values)\n",
        "plt.ylabel('Actuel')\n",
        "plt.xlabel('Prédit')\n",
        "plt.show()"
      ],
      "execution_count": 0,
      "outputs": [
        {
          "output_type": "display_data",
          "data": {
            "image/png": "[encoded data removed]",
            "text/plain": [
              "<Figure size 576x432 with 2 Axes>"
            ]
          },
          "metadata": {
            "tags": []
          }
        }
      ]
    },
    {
      "cell_type": "markdown",
      "metadata": {
        "colab_type": "text",
        "id": "s2_y66pe5hAa"
      },
      "source": [
        "On remarque un petit peu d'amélioration, alors SVM est un bon choix pour ce cas de dataSet "
      ]
    },
    {
      "cell_type": "code",
      "metadata": {
        "colab_type": "code",
        "outputId": "2112fb86-7a3b-4cce-8dca-a7447e844980",
        "id": "m_oAPb_V5hAb",
        "colab": {
          "base_uri": "https://localhost:8080/",
          "height": 619
        }
      },
      "source": [
        "from IPython.display import display\n",
        "\n",
        "for predicted in category_id_df.category_id:\n",
        "  for actual in category_id_df.category_id:\n",
        "    if predicted != actual and conf_mat[actual, predicted] >= 6:\n",
        "      print(\"'{}' est prédit comme '{}' : {} exemples.\".format(id_to_category[actual], id_to_category[predicted], conf_mat[actual, predicted]))\n",
        "      display(df_lem.loc[indices_test[(y_test == actual) & (y_pred == predicted)]][['Category', 'Message_lemmatized_before_stemming']])\n",
        "      print('')"
      ],
      "execution_count": 0,
      "outputs": [
        {
          "output_type": "stream",
          "text": [
            "'spam' est prédit comme 'ham' : 17 exemples.\n"
          ],
          "name": "stdout"
        },
        {
          "output_type": "display_data",
          "data": {
            "text/html": [
              "<div>\n",
              "<style scoped>\n",
              "    .dataframe tbody tr th:only-of-type {\n",
              "        vertical-align: middle;\n",
              "    }\n",
              "\n",
              "    .dataframe tbody tr th {\n",
              "        vertical-align: top;\n",
              "    }\n",
              "\n",
              "    .dataframe thead th {\n",
              "        text-align: right;\n",
              "    }\n",
              "</style>\n",
              "<table border=\"1\" class=\"dataframe\">\n",
              "  <thead>\n",
              "    <tr style=\"text-align: right;\">\n",
              "      <th></th>\n",
              "      <th>Category</th>\n",
              "      <th>Message_lemmatized_before_stemming</th>\n",
              "    </tr>\n",
              "  </thead>\n",
              "  <tbody>\n",
              "    <tr>\n",
              "      <th>684</th>\n",
              "      <td>spam</td>\n",
              "      <td>Hi I 'm sue . I 20 year old work lapdancer . I love sex . Text live - I 'm bedroom . text SUE 89555 . By TextOperator G2 1DA 150ppmsg 18+</td>\n",
              "    </tr>\n",
              "    <tr>\n",
              "      <th>731</th>\n",
              "      <td>spam</td>\n",
              "      <td>Email AlertFrom : Jeri StewartSize : 2KBSubject : Low-cost prescripiton drvgsTo listen email call 123</td>\n",
              "    </tr>\n",
              "    <tr>\n",
              "      <th>1940</th>\n",
              "      <td>spam</td>\n",
              "      <td>More people dogging area . Call 09090204448 join like minded guy . Why arrange 1 . There 's 1 evening . A£1.50 minAPN LS278BB</td>\n",
              "    </tr>\n",
              "    <tr>\n",
              "      <th>751</th>\n",
              "      <td>spam</td>\n",
              "      <td>Do realize 40 year , 'll thousand old lady running around tattoo ?</td>\n",
              "    </tr>\n",
              "    <tr>\n",
              "      <th>4213</th>\n",
              "      <td>spam</td>\n",
              "      <td>Missed call alert . These number called left message . 07008009200</td>\n",
              "    </tr>\n",
              "    <tr>\n",
              "      <th>4298</th>\n",
              "      <td>spam</td>\n",
              "      <td>thesmszone.com let send free anonymous masked messages..im sending message there..do see potential abuse ? ? ?</td>\n",
              "    </tr>\n",
              "    <tr>\n",
              "      <th>333</th>\n",
              "      <td>spam</td>\n",
              "      <td>Call Germany 1 penny per minute ! Call fixed line via access number 0844 861 85 85 . No prepayment . Direct access !</td>\n",
              "    </tr>\n",
              "    <tr>\n",
              "      <th>3864</th>\n",
              "      <td>spam</td>\n",
              "      <td>Oh god ! I 've found number ! I 'm glad , text back xafter msg cst std ntwk chg £1.50</td>\n",
              "    </tr>\n",
              "    <tr>\n",
              "      <th>5449</th>\n",
              "      <td>spam</td>\n",
              "      <td>Latest News ! Police station toilet stolen , cop nothing go !</td>\n",
              "    </tr>\n",
              "    <tr>\n",
              "      <th>1430</th>\n",
              "      <td>spam</td>\n",
              "      <td>For sale - arsenal dartboard . Good condition double treble !</td>\n",
              "    </tr>\n",
              "    <tr>\n",
              "      <th>2247</th>\n",
              "      <td>spam</td>\n",
              "      <td>Hi ya babe x u 4goten bout ? ' scammer getting smart..Though regular vodafone , respond get prem rate msg/subscription . Other no used also . Beware !</td>\n",
              "    </tr>\n",
              "    <tr>\n",
              "      <th>3991</th>\n",
              "      <td>spam</td>\n",
              "      <td>( Bank Granite issue Strong-Buy ) EXPLOSIVE PICK FOR OUR MEMBERS *****UP OVER 300 % *********** Nasdaq Symbol CDGT That $ 5.00 per..</td>\n",
              "    </tr>\n",
              "    <tr>\n",
              "      <th>3460</th>\n",
              "      <td>spam</td>\n",
              "      <td>Not heard U4 . Call night knickers . Make beg like U last time 01223585236 XX Luv Nikiyu4.net</td>\n",
              "    </tr>\n",
              "    <tr>\n",
              "      <th>2823</th>\n",
              "      <td>spam</td>\n",
              "      <td>ROMCAPspam Everyone around responding well presence since warm outgoing . You bringing real breath sunshine .</td>\n",
              "    </tr>\n",
              "    <tr>\n",
              "      <th>2402</th>\n",
              "      <td>spam</td>\n",
              "      <td>Babe : U want dont u baby ! Im nasty thing 4 filthyguys . Fancy rude time sexy bitch . How go slo n hard ! Txt XXX SLO ( 4msgs )</td>\n",
              "    </tr>\n",
              "    <tr>\n",
              "      <th>3501</th>\n",
              "      <td>spam</td>\n",
              "      <td>Dorothy @ kiefer.com ( Bank Granite issue Strong-Buy ) EXPLOSIVE PICK FOR OUR MEMBERS *****UP OVER 300 % *********** Nasdaq Symbol CDGT That $ 5.00 per..</td>\n",
              "    </tr>\n",
              "    <tr>\n",
              "      <th>4821</th>\n",
              "      <td>spam</td>\n",
              "      <td>Check Out Choose Your Babe Videos @ sms.shsex.netUN fgkslpoPW fgkslpo</td>\n",
              "    </tr>\n",
              "  </tbody>\n",
              "</table>\n",
              "</div>"
            ],
            "text/plain": [
              "     Category                                                                                                                         Message_lemmatized_before_stemming\n",
              "684   spam     Hi I 'm sue . I 20 year old work lapdancer . I love sex . Text live - I 'm bedroom . text SUE 89555 . By TextOperator G2 1DA 150ppmsg 18+                \n",
              "731   spam     Email AlertFrom : Jeri StewartSize : 2KBSubject : Low-cost prescripiton drvgsTo listen email call 123                                                    \n",
              "1940  spam     More people dogging area . Call 09090204448 join like minded guy . Why arrange 1 . There 's 1 evening . A£1.50 minAPN LS278BB                            \n",
              "751   spam     Do realize 40 year , 'll thousand old lady running around tattoo ?                                                                                       \n",
              "4213  spam     Missed call alert . These number called left message . 07008009200                                                                                       \n",
              "4298  spam     thesmszone.com let send free anonymous masked messages..im sending message there..do see potential abuse ? ? ?                                           \n",
              "333   spam     Call Germany 1 penny per minute ! Call fixed line via access number 0844 861 85 85 . No prepayment . Direct access !                                     \n",
              "3864  spam     Oh god ! I 've found number ! I 'm glad , text back xafter msg cst std ntwk chg £1.50                                                                    \n",
              "5449  spam     Latest News ! Police station toilet stolen , cop nothing go !                                                                                            \n",
              "1430  spam     For sale - arsenal dartboard . Good condition double treble !                                                                                            \n",
              "2247  spam     Hi ya babe x u 4goten bout ? ' scammer getting smart..Though regular vodafone , respond get prem rate msg/subscription . Other no used also . Beware !   \n",
              "3991  spam     ( Bank Granite issue Strong-Buy ) EXPLOSIVE PICK FOR OUR MEMBERS *****UP OVER 300 % *********** Nasdaq Symbol CDGT That $ 5.00 per..                     \n",
              "3460  spam     Not heard U4 . Call night knickers . Make beg like U last time 01223585236 XX Luv Nikiyu4.net                                                            \n",
              "2823  spam     ROMCAPspam Everyone around responding well presence since warm outgoing . You bringing real breath sunshine .                                            \n",
              "2402  spam     Babe : U want dont u baby ! Im nasty thing 4 filthyguys . Fancy rude time sexy bitch . How go slo n hard ! Txt XXX SLO ( 4msgs )                         \n",
              "3501  spam     Dorothy @ kiefer.com ( Bank Granite issue Strong-Buy ) EXPLOSIVE PICK FOR OUR MEMBERS *****UP OVER 300 % *********** Nasdaq Symbol CDGT That $ 5.00 per..\n",
              "4821  spam     Check Out Choose Your Babe Videos @ sms.shsex.netUN fgkslpoPW fgkslpo                                                                                    "
            ]
          },
          "metadata": {
            "tags": []
          }
        },
        {
          "output_type": "stream",
          "text": [
            "\n"
          ],
          "name": "stdout"
        }
      ]
    },
    {
      "cell_type": "code",
      "metadata": {
        "colab_type": "code",
        "id": "gzgUQ8ml5hAe",
        "colab": {}
      },
      "source": [
        ""
      ],
      "execution_count": 0,
      "outputs": []
    }
  ]
}